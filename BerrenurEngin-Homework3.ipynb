{
 "cells": [
  {
   "cell_type": "code",
   "execution_count": null,
   "metadata": {},
   "outputs": [],
   "source": [
    "print(\"1-2-3 sayılarından birini giriniz\")\n",
    "number=int(input(\"number:\"))\n",
    "\n",
    "\n",
    "if number == 1 or number == 2 or number == 3:\n",
    "    if number == 1 : \n",
    "        print('üçgenin hipotenüsü hesaplanacak')\n",
    "        a=int(input(\"birinci kenarın uzunluğunu giriniz: \"))\n",
    "        b=int(input(\"ikinci kenarın ölçüsünü giriniz: \"))\n",
    "        c=((a**2)+(b**2))**(0.5)\n",
    "        print (c)\n",
    "        \n",
    "        \n",
    "    if number==2:\n",
    "        d = int(input(\"bir sayı giriniz: \"))\n",
    "        i=1\n",
    "        while(i<=d):\n",
    "            print(i)\n",
    "            i=i+1\n",
    "       \n",
    "       \n",
    "       \n",
    "    if number ==3:\n",
    "        print('girdiginiz 6 tane sayının aritmatik ortalaması hesaplanacak')\n",
    "        \n",
    "        number1 = int(input(\"enter a 1st number: \"))\n",
    "        number2 = int(input(\"enter a 2nd number: \"))\n",
    "        number3 = int(input(\"enter a 3rd number: \"))\n",
    "        number4 = int(input(\"enter a 4th number: \"))\n",
    "        number5 = int(input(\"enter a 5th number: \"))\n",
    "        number6 = int(input(\"enter a 6th number: \"))\n",
    " \n",
    "        print('your number set, respectively:', number1,number2,number3,number4,number5,number6)\n",
    "        result_of_arithmetic=(number1+number2+number3+number4+number5+number6)/6\n",
    "        print('your aritmetic mean is :',result_of_arithmetic)\n",
    "\n",
    "else:\n",
    "    print('programı tekrar başlatın.')"
   ]
  }
 ],
 "metadata": {
  "kernelspec": {
   "display_name": "Python 3",
   "language": "python",
   "name": "python3"
  },
  "language_info": {
   "codemirror_mode": {
    "name": "ipython",
    "version": 3
   },
   "file_extension": ".py",
   "mimetype": "text/x-python",
   "name": "python",
   "nbconvert_exporter": "python",
   "pygments_lexer": "ipython3",
   "version": "3.6.7"
  }
 },
 "nbformat": 4,
 "nbformat_minor": 2
}
