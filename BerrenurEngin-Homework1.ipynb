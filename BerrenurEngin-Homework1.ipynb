{
 "cells": [
  {
   "cell_type": "code",
   "execution_count": null,
   "metadata": {},
   "outputs": [
    {
     "name": "stdout",
     "output_type": "stream",
     "text": [
      "a*x**2+b*x+c\n"
     ]
    }
   ],
   "source": [
    "print(\"a*x**2\",\"b*x\",\"c\", sep=\"+\") #ikinci dereceden ax^2+bx+c=0 denkleminin diskriminant cözümünü yapınız.\n",
    "#kullanıcıdan a,b ve c değerlerini alarak deltayı hesaplayınız.\n",
    "\n",
    "import math\n",
    "\n",
    "a=int(input(\"a: \"))\n",
    "b=int(input(\"b: \"))\n",
    "c=int(input(\"c: \"))\n",
    "\n",
    "#delta \n",
    "\n",
    "delta = b**2 - (4*a*c)\n",
    "print(\"Delta = \", delta)\n",
    "\n",
    "if delta>0:\n",
    "    kok1 = (-b + math.sqrt(delta)) / (2*a)\n",
    "    kok2 = (-b - math.sqrt(delta)) / (2*a)\n",
    "    print(\"sistemin 2 kökü vardır\" , kok1, \"--\", kok2 )\n",
    "\n",
    "elif delta==0:\n",
    "    kok = -b/(2*a)\n",
    "    print(\"çakışık kök\", kok)\n",
    "    \n",
    "else:\n",
    "    print(\"sistemin kökü yoktur\")"
   ]
  },
  {
   "cell_type": "code",
   "execution_count": null,
   "metadata": {},
   "outputs": [],
   "source": []
  }
 ],
 "metadata": {
  "kernelspec": {
   "display_name": "Python 3",
   "language": "python",
   "name": "python3"
  },
  "language_info": {
   "codemirror_mode": {
    "name": "ipython",
    "version": 3
   },
   "file_extension": ".py",
   "mimetype": "text/x-python",
   "name": "python",
   "nbconvert_exporter": "python",
   "pygments_lexer": "ipython3",
   "version": "3.6.7"
  }
 },
 "nbformat": 4,
 "nbformat_minor": 2
}
